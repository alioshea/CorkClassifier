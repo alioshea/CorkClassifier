{
 "cells": [
  {
   "cell_type": "code",
   "execution_count": 1,
   "id": "ca74553a",
   "metadata": {},
   "outputs": [
    {
     "name": "stderr",
     "output_type": "stream",
     "text": [
      "ERROR: pip's dependency resolver does not currently take into account all the packages that are installed. This behaviour is the source of the following dependency conflicts.\n",
      "spyder 4.2.5 requires pyqt5<5.13, which is not installed.\n",
      "spyder 4.2.5 requires pyqtwebengine<5.13, which is not installed.\n",
      "voila 0.2.10 requires nbconvert<7,>=6.0.0, but you have nbconvert 5.6.1 which is incompatible.\n",
      "C:\\Users\\Alison.OShea\\Anaconda3\\lib\\site-packages\\fastbook\\__init__.py:18: UserWarning: Missing `graphviz` - please run `conda install fastbook`\n",
      "  except ModuleNotFoundError: warn(\"Missing `graphviz` - please run `conda install fastbook`\")\n"
     ]
    }
   ],
   "source": [
    "!pip install -Uqq fastbook\n",
    "from fastbook import *\n",
    "from fastai.vision.widgets import *"
   ]
  },
  {
   "cell_type": "code",
   "execution_count": 2,
   "id": "6ec0b7f5",
   "metadata": {},
   "outputs": [],
   "source": [
    "import pathlib\n",
    "#temp = pathlib.PosixPath\n",
    "#pathlib.PosixPath = pathlib.WindowsPath"
   ]
  },
  {
   "cell_type": "code",
   "execution_count": 3,
   "id": "74321ce4",
   "metadata": {},
   "outputs": [],
   "source": [
    "path = Path()"
   ]
  },
  {
   "cell_type": "code",
   "execution_count": 4,
   "id": "eda55be3",
   "metadata": {},
   "outputs": [],
   "source": [
    "learn_inf = load_learner(path/'export.pkl')"
   ]
  },
  {
   "cell_type": "code",
   "execution_count": 5,
   "id": "09d1d6a8",
   "metadata": {},
   "outputs": [],
   "source": [
    "#hide_output\n",
    "btn_upload = widgets.FileUpload()"
   ]
  },
  {
   "cell_type": "code",
   "execution_count": 6,
   "id": "dc2fb002",
   "metadata": {},
   "outputs": [],
   "source": [
    "#hide_output\n",
    "out_pl = widgets.Output()\n",
    "out_pl.clear_output()"
   ]
  },
  {
   "cell_type": "code",
   "execution_count": 7,
   "id": "951aac3a",
   "metadata": {},
   "outputs": [],
   "source": [
    "#hide_output\n",
    "lbl_pred = widgets.Label()"
   ]
  },
  {
   "cell_type": "code",
   "execution_count": 8,
   "id": "ffe41ca9",
   "metadata": {},
   "outputs": [],
   "source": [
    "#hide_output\n",
    "btn_run = widgets.Button(description='Classify')"
   ]
  },
  {
   "cell_type": "code",
   "execution_count": 9,
   "id": "c0692cd8",
   "metadata": {},
   "outputs": [],
   "source": [
    "def on_click_classify(change):\n",
    "    data_maybe = [btn_upload.value[f]['content'] for f in btn_upload.value]\n",
    "    img = PILImage.create(data_maybe[0])\n",
    "    out_pl.clear_output()\n",
    "    with out_pl: display(img.to_thumb(128,128))\n",
    "    pred,pred_idx,probs = learn_inf.predict(img)\n",
    "    lbl_pred.value = f'Prediction: {pred}; Probability: {probs[pred_idx]:.04f}'\n",
    "\n",
    "btn_run.on_click(on_click_classify)"
   ]
  },
  {
   "cell_type": "code",
   "execution_count": 10,
   "id": "93dacd09",
   "metadata": {},
   "outputs": [],
   "source": [
    "#hide\n",
    "#Putting back btn_upload to a widget for next cell\n",
    "btn_upload = widgets.FileUpload()"
   ]
  },
  {
   "cell_type": "code",
   "execution_count": 11,
   "id": "5eff5fea",
   "metadata": {},
   "outputs": [
    {
     "data": {
      "application/vnd.jupyter.widget-view+json": {
       "model_id": "78162a4b7a944fe28333969a68a9d1b3",
       "version_major": 2,
       "version_minor": 0
      },
      "text/plain": [
       "VBox(children=(Label(value='Select your image!'), FileUpload(value={}, description='Upload'), Button(descripti…"
      ]
     },
     "metadata": {},
     "output_type": "display_data"
    }
   ],
   "source": [
    "#hide_output\n",
    "VBox([widgets.Label('Select your image!'), \n",
    "      btn_upload, btn_run, out_pl, lbl_pred])"
   ]
  },
  {
   "cell_type": "code",
   "execution_count": 12,
   "id": "0565ecd4",
   "metadata": {
    "scrolled": true
   },
   "outputs": [
    {
     "name": "stdout",
     "output_type": "stream",
     "text": [
      "Requirement already satisfied: voila in c:\\users\\alison.oshea\\anaconda3\\lib\\site-packages (0.2.10)\n",
      "Requirement already satisfied: nbclient<0.6,>=0.4.0 in c:\\users\\alison.oshea\\anaconda3\\lib\\site-packages (from voila) (0.5.3)\n",
      "Collecting nbconvert<7,>=6.0.0\n",
      "  Using cached nbconvert-6.1.0-py3-none-any.whl (551 kB)\n",
      "Requirement already satisfied: jupyter-server<2.0.0,>=0.3.0 in c:\\users\\alison.oshea\\anaconda3\\lib\\site-packages (from voila) (1.4.1)\n",
      "Requirement already satisfied: jupyter-client<7,>=6.1.3 in c:\\users\\alison.oshea\\anaconda3\\lib\\site-packages (from voila) (6.1.12)\n",
      "Requirement already satisfied: tornado>=4.1 in c:\\users\\alison.oshea\\anaconda3\\lib\\site-packages (from jupyter-client<7,>=6.1.3->voila) (6.1)\n",
      "Requirement already satisfied: pyzmq>=13 in c:\\users\\alison.oshea\\anaconda3\\lib\\site-packages (from jupyter-client<7,>=6.1.3->voila) (20.0.0)\n",
      "Requirement already satisfied: jupyter-core>=4.6.0 in c:\\users\\alison.oshea\\anaconda3\\lib\\site-packages (from jupyter-client<7,>=6.1.3->voila) (4.7.1)\n",
      "Requirement already satisfied: python-dateutil>=2.1 in c:\\users\\alison.oshea\\anaconda3\\lib\\site-packages (from jupyter-client<7,>=6.1.3->voila) (2.8.1)\n",
      "Requirement already satisfied: traitlets in c:\\users\\alison.oshea\\anaconda3\\lib\\site-packages (from jupyter-client<7,>=6.1.3->voila) (5.0.5)\n",
      "Requirement already satisfied: pywin32>=1.0 in c:\\users\\alison.oshea\\anaconda3\\lib\\site-packages (from jupyter-core>=4.6.0->jupyter-client<7,>=6.1.3->voila) (227)\n",
      "Requirement already satisfied: jinja2 in c:\\users\\alison.oshea\\anaconda3\\lib\\site-packages (from jupyter-server<2.0.0,>=0.3.0->voila) (2.11.3)\n",
      "Requirement already satisfied: anyio>=2.0.2 in c:\\users\\alison.oshea\\anaconda3\\lib\\site-packages (from jupyter-server<2.0.0,>=0.3.0->voila) (2.2.0)\n",
      "Requirement already satisfied: Send2Trash in c:\\users\\alison.oshea\\anaconda3\\lib\\site-packages (from jupyter-server<2.0.0,>=0.3.0->voila) (1.5.0)\n",
      "Requirement already satisfied: nbformat in c:\\users\\alison.oshea\\anaconda3\\lib\\site-packages (from jupyter-server<2.0.0,>=0.3.0->voila) (5.1.3)\n",
      "Requirement already satisfied: ipython-genutils in c:\\users\\alison.oshea\\anaconda3\\lib\\site-packages (from jupyter-server<2.0.0,>=0.3.0->voila) (0.2.0)\n",
      "Requirement already satisfied: prometheus-client in c:\\users\\alison.oshea\\anaconda3\\lib\\site-packages (from jupyter-server<2.0.0,>=0.3.0->voila) (0.10.1)\n",
      "Requirement already satisfied: terminado>=0.8.3 in c:\\users\\alison.oshea\\anaconda3\\lib\\site-packages (from jupyter-server<2.0.0,>=0.3.0->voila) (0.9.4)\n",
      "Requirement already satisfied: sniffio>=1.1 in c:\\users\\alison.oshea\\anaconda3\\lib\\site-packages (from anyio>=2.0.2->jupyter-server<2.0.0,>=0.3.0->voila) (1.2.0)\n",
      "Requirement already satisfied: idna>=2.8 in c:\\users\\alison.oshea\\anaconda3\\lib\\site-packages (from anyio>=2.0.2->jupyter-server<2.0.0,>=0.3.0->voila) (2.10)\n",
      "Requirement already satisfied: nest-asyncio in c:\\users\\alison.oshea\\anaconda3\\lib\\site-packages (from nbclient<0.6,>=0.4.0->voila) (1.5.1)\n",
      "Requirement already satisfied: async-generator in c:\\users\\alison.oshea\\anaconda3\\lib\\site-packages (from nbclient<0.6,>=0.4.0->voila) (1.10)\n",
      "Requirement already satisfied: entrypoints>=0.2.2 in c:\\users\\alison.oshea\\anaconda3\\lib\\site-packages (from nbconvert<7,>=6.0.0->voila) (0.3)\n",
      "Requirement already satisfied: bleach in c:\\users\\alison.oshea\\anaconda3\\lib\\site-packages (from nbconvert<7,>=6.0.0->voila) (3.3.0)\n",
      "Requirement already satisfied: testpath in c:\\users\\alison.oshea\\anaconda3\\lib\\site-packages (from nbconvert<7,>=6.0.0->voila) (0.4.4)\n",
      "Requirement already satisfied: jupyterlab-pygments in c:\\users\\alison.oshea\\anaconda3\\lib\\site-packages (from nbconvert<7,>=6.0.0->voila) (0.1.2)\n",
      "Requirement already satisfied: mistune<2,>=0.8.1 in c:\\users\\alison.oshea\\anaconda3\\lib\\site-packages (from nbconvert<7,>=6.0.0->voila) (0.8.4)\n",
      "Requirement already satisfied: defusedxml in c:\\users\\alison.oshea\\anaconda3\\lib\\site-packages (from nbconvert<7,>=6.0.0->voila) (0.7.1)\n",
      "Requirement already satisfied: pygments>=2.4.1 in c:\\users\\alison.oshea\\anaconda3\\lib\\site-packages (from nbconvert<7,>=6.0.0->voila) (2.8.1)\n",
      "Requirement already satisfied: pandocfilters>=1.4.1 in c:\\users\\alison.oshea\\anaconda3\\lib\\site-packages (from nbconvert<7,>=6.0.0->voila) (1.4.3)\n",
      "Requirement already satisfied: MarkupSafe>=0.23 in c:\\users\\alison.oshea\\anaconda3\\lib\\site-packages (from jinja2->jupyter-server<2.0.0,>=0.3.0->voila) (1.1.1)\n",
      "Requirement already satisfied: jsonschema!=2.5.0,>=2.4 in c:\\users\\alison.oshea\\anaconda3\\lib\\site-packages (from nbformat->jupyter-server<2.0.0,>=0.3.0->voila) (3.2.0)\n",
      "Requirement already satisfied: attrs>=17.4.0 in c:\\users\\alison.oshea\\anaconda3\\lib\\site-packages (from jsonschema!=2.5.0,>=2.4->nbformat->jupyter-server<2.0.0,>=0.3.0->voila) (20.3.0)\n",
      "Requirement already satisfied: pyrsistent>=0.14.0 in c:\\users\\alison.oshea\\anaconda3\\lib\\site-packages (from jsonschema!=2.5.0,>=2.4->nbformat->jupyter-server<2.0.0,>=0.3.0->voila) (0.17.3)\n",
      "Requirement already satisfied: setuptools in c:\\users\\alison.oshea\\anaconda3\\lib\\site-packages (from jsonschema!=2.5.0,>=2.4->nbformat->jupyter-server<2.0.0,>=0.3.0->voila) (52.0.0.post20210125)\n",
      "Requirement already satisfied: six>=1.11.0 in c:\\users\\alison.oshea\\anaconda3\\lib\\site-packages (from jsonschema!=2.5.0,>=2.4->nbformat->jupyter-server<2.0.0,>=0.3.0->voila) (1.15.0)\n",
      "Requirement already satisfied: pywinpty>=0.5 in c:\\users\\alison.oshea\\anaconda3\\lib\\site-packages (from terminado>=0.8.3->jupyter-server<2.0.0,>=0.3.0->voila) (0.5.7)\n",
      "Requirement already satisfied: webencodings in c:\\users\\alison.oshea\\anaconda3\\lib\\site-packages (from bleach->nbconvert<7,>=6.0.0->voila) (0.5.1)\n",
      "Requirement already satisfied: packaging in c:\\users\\alison.oshea\\anaconda3\\lib\\site-packages (from bleach->nbconvert<7,>=6.0.0->voila) (20.9)\n",
      "Requirement already satisfied: pyparsing>=2.0.2 in c:\\users\\alison.oshea\\anaconda3\\lib\\site-packages (from packaging->bleach->nbconvert<7,>=6.0.0->voila) (2.4.7)\n",
      "Installing collected packages: nbconvert\n",
      "  Attempting uninstall: nbconvert\n",
      "    Found existing installation: nbconvert 5.6.1\n",
      "    Uninstalling nbconvert-5.6.1:\n",
      "      Successfully uninstalled nbconvert-5.6.1\n",
      "Successfully installed nbconvert-6.1.0\n"
     ]
    },
    {
     "name": "stderr",
     "output_type": "stream",
     "text": [
      "ERROR: pip's dependency resolver does not currently take into account all the packages that are installed. This behaviour is the source of the following dependency conflicts.\n",
      "spyder 4.2.5 requires pyqt5<5.13, which is not installed.\n",
      "spyder 4.2.5 requires pyqtwebengine<5.13, which is not installed.\n",
      "nbdev 1.1.14 requires nbconvert<6, but you have nbconvert 6.1.0 which is incompatible.\n",
      "Enabling: voila\n",
      "- Writing config: C:\\Users\\Alison.OShea\\Anaconda3\\etc\\jupyter\n",
      "    - Validating...\n",
      "      voila 0.2.10 ok\n"
     ]
    }
   ],
   "source": [
    "#hide\n",
    "!pip install voila\n",
    "!jupyter serverextension enable --sys-prefix voila "
   ]
  },
  {
   "cell_type": "code",
   "execution_count": null,
   "id": "8d31bcdd",
   "metadata": {},
   "outputs": [],
   "source": []
  }
 ],
 "metadata": {
  "kernelspec": {
   "display_name": "Python 3",
   "language": "python",
   "name": "python3"
  },
  "language_info": {
   "codemirror_mode": {
    "name": "ipython",
    "version": 3
   },
   "file_extension": ".py",
   "mimetype": "text/x-python",
   "name": "python",
   "nbconvert_exporter": "python",
   "pygments_lexer": "ipython3",
   "version": "3.8.8"
  }
 },
 "nbformat": 4,
 "nbformat_minor": 5
}
